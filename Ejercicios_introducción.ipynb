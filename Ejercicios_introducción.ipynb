{
  "nbformat": 4,
  "nbformat_minor": 0,
  "metadata": {
    "colab": {
      "name": "Ejercicios_introducción.ipynb",
      "provenance": [],
      "include_colab_link": true
    },
    "kernelspec": {
      "display_name": "Python 3",
      "name": "python3"
    }
  },
  "cells": [
    {
      "cell_type": "markdown",
      "metadata": {
        "id": "view-in-github",
        "colab_type": "text"
      },
      "source": [
        "<a href=\"https://colab.research.google.com/github/Lawlesscodelen/Introducci-n-a-Python-/blob/main/Ejercicios_introducci%C3%B3n.ipynb\" target=\"_parent\"><img src=\"https://colab.research.google.com/assets/colab-badge.svg\" alt=\"Open In Colab\"/></a>"
      ]
    },
    {
      "cell_type": "markdown",
      "metadata": {
        "id": "4sGkaOwaYBqc"
      },
      "source": [
        "**Los ejercícios de a continuación simplemente consisten en cambiar los nombres que hemos visto en las explicaciones. Por ejemplo, cambiar el nombre de las variables, elementos de una lista, un string...**\n",
        "\n",
        "Ejemplo de un ejercício de la explicación: string1 = \"no me gustan los lunes\"\n",
        "\n",
        "En este ejercicio cambiaríamos el nombre de la variable de string1 a cadena1 y \n",
        "la cadena de caracteres sería \"me encantan los viernes\".\n",
        "\n",
        "Quedaría así: cadena1 = \"me encantan los viernes\"\n",
        "\n",
        "Es un ejemplo pero puedes poner lo que quieras."
      ]
    },
    {
      "cell_type": "markdown",
      "metadata": {
        "id": "0LWeJ9XiM6UB"
      },
      "source": [
        "Imprime por pantalla \"Hello Python\""
      ]
    },
    {
      "cell_type": "code",
      "metadata": {
        "id": "W5jx3nvOmwQM"
      },
      "source": [
        ""
      ],
      "execution_count": null,
      "outputs": []
    },
    {
      "cell_type": "markdown",
      "metadata": {
        "id": "akFvIUa4M_-5"
      },
      "source": [
        "Crea una variable"
      ]
    },
    {
      "cell_type": "code",
      "metadata": {
        "id": "E9Ezu76iz_1c"
      },
      "source": [
        ""
      ],
      "execution_count": null,
      "outputs": []
    },
    {
      "cell_type": "markdown",
      "metadata": {
        "id": "V-0hYx1Yn4qQ"
      },
      "source": [
        "Imprímela por pantalla"
      ]
    },
    {
      "cell_type": "code",
      "metadata": {
        "id": "yffPOTqun6Zo"
      },
      "source": [
        ""
      ],
      "execution_count": null,
      "outputs": []
    },
    {
      "cell_type": "markdown",
      "metadata": {
        "id": "ncihOZTPmL9I"
      },
      "source": [
        "Realiza sumas, restas, multiplicaciones...(Operaciones aritméticas)"
      ]
    },
    {
      "cell_type": "code",
      "metadata": {
        "id": "SN6i4glvmVBo"
      },
      "source": [
        ""
      ],
      "execution_count": null,
      "outputs": []
    },
    {
      "cell_type": "markdown",
      "metadata": {
        "id": "2w7PBmMamkRo"
      },
      "source": [
        "Crea varias variables que lleven el data type integer y floats"
      ]
    },
    {
      "cell_type": "code",
      "metadata": {
        "id": "H1jLWQAump5A"
      },
      "source": [
        ""
      ],
      "execution_count": null,
      "outputs": []
    },
    {
      "cell_type": "markdown",
      "metadata": {
        "id": "Tr7XukDKmqg4"
      },
      "source": [
        "Crea variables que lleven strings"
      ]
    },
    {
      "cell_type": "code",
      "metadata": {
        "id": "2SayQLFemtGW"
      },
      "source": [
        ""
      ],
      "execution_count": null,
      "outputs": []
    },
    {
      "cell_type": "markdown",
      "metadata": {
        "id": "Og4kUEU2nWVQ"
      },
      "source": [
        "Pasa el string todo a mayúsucla"
      ]
    },
    {
      "cell_type": "code",
      "metadata": {
        "id": "b8ce3KvinaBA"
      },
      "source": [
        ""
      ],
      "execution_count": null,
      "outputs": []
    },
    {
      "cell_type": "markdown",
      "metadata": {
        "id": "ghPmQLWlncMi"
      },
      "source": [
        "Pasa el string todo a minúsucla"
      ]
    },
    {
      "cell_type": "code",
      "metadata": {
        "id": "YZOGGp23nfeY"
      },
      "source": [
        ""
      ],
      "execution_count": null,
      "outputs": []
    },
    {
      "cell_type": "markdown",
      "metadata": {
        "id": "2-COEb2JmyO_"
      },
      "source": [
        "Crea dos listas"
      ]
    },
    {
      "cell_type": "code",
      "metadata": {
        "id": "V2Hxjg-MnVJk"
      },
      "source": [
        ""
      ],
      "execution_count": null,
      "outputs": []
    },
    {
      "cell_type": "markdown",
      "metadata": {
        "id": "ECwG7p85nk44"
      },
      "source": [
        "Imprime  el último elemento\n",
        "\n",
        "> \n",
        "\n"
      ]
    },
    {
      "cell_type": "code",
      "metadata": {
        "id": "JQhgVeXUnd-O"
      },
      "source": [
        ""
      ],
      "execution_count": null,
      "outputs": []
    },
    {
      "cell_type": "markdown",
      "metadata": {
        "id": "hGz1Rg6Hm5BA"
      },
      "source": [
        "Crea un diccionario"
      ]
    },
    {
      "cell_type": "code",
      "metadata": {
        "id": "zgq2988Om6PA"
      },
      "source": [
        ""
      ],
      "execution_count": null,
      "outputs": []
    },
    {
      "cell_type": "markdown",
      "metadata": {
        "id": "0a29RMUanF0n"
      },
      "source": [
        "Crea dos booleanos"
      ]
    },
    {
      "cell_type": "code",
      "metadata": {
        "id": "VCGu2iNKnHKH"
      },
      "source": [
        ""
      ],
      "execution_count": null,
      "outputs": []
    },
    {
      "cell_type": "markdown",
      "metadata": {
        "id": "VmREvykPnHvA"
      },
      "source": [
        "Crea dos condiciones (if-else)"
      ]
    },
    {
      "cell_type": "code",
      "metadata": {
        "id": "aH_Z575UnM13"
      },
      "source": [
        ""
      ],
      "execution_count": null,
      "outputs": []
    },
    {
      "cell_type": "markdown",
      "metadata": {
        "id": "jbYWW6LInNQg"
      },
      "source": [
        "Crea un bucle o loop"
      ]
    },
    {
      "cell_type": "code",
      "metadata": {
        "id": "T2ZuYUfKnQli"
      },
      "source": [
        ""
      ],
      "execution_count": null,
      "outputs": []
    },
    {
      "cell_type": "markdown",
      "metadata": {
        "id": "ACc0tQ7cnulg"
      },
      "source": [
        "Crea una función sencilla"
      ]
    },
    {
      "cell_type": "code",
      "metadata": {
        "id": "FMPjOVcznxC6"
      },
      "source": [
        ""
      ],
      "execution_count": null,
      "outputs": []
    }
  ]
}