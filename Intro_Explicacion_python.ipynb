{
  "nbformat": 4,
  "nbformat_minor": 0,
  "metadata": {
    "colab": {
      "name": "Intro_Explicacion_python.ipynb",
      "provenance": [],
      "include_colab_link": true
    },
    "kernelspec": {
      "name": "python3",
      "display_name": "Python 3"
    }
  },
  "cells": [
    {
      "cell_type": "markdown",
      "metadata": {
        "id": "view-in-github",
        "colab_type": "text"
      },
      "source": [
        "<a href=\"https://colab.research.google.com/github/Lawlesscodelen/Introducci-n-a-Python-/blob/main/Intro_Explicacion_python.ipynb\" target=\"_parent\"><img src=\"https://colab.research.google.com/assets/colab-badge.svg\" alt=\"Open In Colab\"/></a>"
      ]
    },
    {
      "cell_type": "markdown",
      "metadata": {
        "id": "c0CHKay5P3y2"
      },
      "source": [
        "INTRODUCCIÓN A PYTHON"
      ]
    },
    {
      "cell_type": "markdown",
      "metadata": {
        "id": "4hU4aXWE-mdi"
      },
      "source": [
        "**Booleans** TRUE and FALSE\n",
        "\n",
        "\n"
      ]
    },
    {
      "cell_type": "code",
      "metadata": {
        "id": "lFhNApjav3zQ"
      },
      "source": [
        "# 20 es mayor que 100\n",
        "\n",
        "print(20 > 100)"
      ],
      "execution_count": null,
      "outputs": []
    },
    {
      "cell_type": "code",
      "metadata": {
        "id": "Lcjn6wqGZAH0"
      },
      "source": [
        "print(7824372824624532732832721 > 783462766872984874684)"
      ],
      "execution_count": null,
      "outputs": []
    },
    {
      "cell_type": "code",
      "metadata": {
        "id": "ICoi97QwwFYq"
      },
      "source": [
        "# 400 es más pequeño que 100\n",
        "\n",
        "print(100 > 400)"
      ],
      "execution_count": null,
      "outputs": []
    },
    {
      "cell_type": "markdown",
      "metadata": {
        "id": "ZpprquKh0hb7"
      },
      "source": [
        "**Operaciones lógicas: AND - OR - IN**"
      ]
    },
    {
      "cell_type": "code",
      "metadata": {
        "id": "nXev-8oo0USm"
      },
      "source": [
        "# AND: Devuelve true si ambos operadores son true\n",
        "# OR: Devuelve true si alguno de los operadodes es true\n",
        "# NOT: Devuelve True si alguno de los operadores es false \n",
        "# ==: es un signo de igual a \n",
        "# != : es un signo que son distintos\n",
        "# Ejemplos:\n",
        "A = True\n",
        "B = False"
      ],
      "execution_count": null,
      "outputs": []
    },
    {
      "cell_type": "code",
      "metadata": {
        "id": "ikCccvTp0YRs"
      },
      "source": [
        "A or B"
      ],
      "execution_count": null,
      "outputs": []
    },
    {
      "cell_type": "code",
      "metadata": {
        "id": "rx9LC93e0oGO"
      },
      "source": [
        "A and B"
      ],
      "execution_count": null,
      "outputs": []
    },
    {
      "cell_type": "code",
      "metadata": {
        "id": "vTG0yLh-0qyB"
      },
      "source": [
        "not A"
      ],
      "execution_count": null,
      "outputs": []
    },
    {
      "cell_type": "code",
      "metadata": {
        "id": "CdWjTu4L_6ii"
      },
      "source": [
        "not B"
      ],
      "execution_count": null,
      "outputs": []
    },
    {
      "cell_type": "code",
      "metadata": {
        "id": "eH5wV0lc0OP1"
      },
      "source": [
        "A == B"
      ],
      "execution_count": null,
      "outputs": []
    },
    {
      "cell_type": "code",
      "metadata": {
        "id": "HuXYILiCTakX"
      },
      "source": [
        "A != B"
      ],
      "execution_count": null,
      "outputs": []
    },
    {
      "cell_type": "markdown",
      "metadata": {
        "id": "sFEUBQpRAAIN"
      },
      "source": [
        "**Python conditions** IF and ELSE\n"
      ]
    },
    {
      "cell_type": "code",
      "metadata": {
        "id": "eiPWGrXyAHhe"
      },
      "source": [
        "# If and else, ejemplo: \n",
        "\n",
        "a = 500\n",
        "e = 77\n",
        "\n",
        "if e > a:\n",
        "  print(\"e es mayor que a\")\n",
        "else:\n",
        "  print(\"e no es mayor que a\")"
      ],
      "execution_count": null,
      "outputs": []
    },
    {
      "cell_type": "code",
      "metadata": {
        "id": "1hByMKSdALbA"
      },
      "source": [
        "# Otro ejemplo: \n",
        "\n",
        "Albert = 31\n",
        "Robert = 37\n",
        "\n",
        "if Albert > Robert:\n",
        "  print(\"Albert es mayor que Robert\")\n",
        "else:\n",
        "  print(\"Albert no es mayor que Robert\")"
      ],
      "execution_count": null,
      "outputs": []
    },
    {
      "cell_type": "markdown",
      "metadata": {
        "id": "Z9Y35JiGAQgn"
      },
      "source": [
        "**Loops o bucles**\n",
        "\n",
        "La estructura de un bucle básico es la siguiente: \n",
        "\n",
        "\n",
        "\n",
        "```\n",
        "for <variable temporal> in <variable>:\n",
        "  <accion>\n",
        "```\n",
        "\n"
      ]
    },
    {
      "cell_type": "code",
      "metadata": {
        "id": "Dr_OmNEhAFZU"
      },
      "source": [
        "# Primer ejemplo básico: este bucle recorre esta frase \"Covid es una mierda\" y nos la imprime.\n",
        "# En este ejemplo la variable temporal se llama \"a\" (aunque podemos darle cualquier nombre) y se encarga de recorrer uno a uno los elementos de la cadena. Por ejemplo: primero recoge \"covid\", después \"es\"...\n",
        "# La variable es \"mystring\"\n",
        "# Con el print nos imprime la cadena entera\n",
        "\n",
        "myString = \"Covid es una mierda\"\n",
        "\n",
        "for a in myString:\n",
        "    print(a)"
      ],
      "execution_count": null,
      "outputs": []
    },
    {
      "cell_type": "code",
      "metadata": {
        "id": "NOlip0we3-zo"
      },
      "source": [
        "# Un ejemplo un poco más complejo: For loops. Itera sobre la lista_1 y tiene que encontrar la palabra que empieza por c minuscula. Las que cumplan con esa condicion, la suma a la lista vacía list_C y además los pone mayúscula\n",
        "list_1 = [\"uno\", \"dos\", \"tres\", \"cuatro\", \"cinco\", \"treinta\"]\n",
        "list_C = []\n",
        "for element in list_1:\n",
        "    if element[0] == \"c\":\n",
        "        list_C.append(element.upper())\n",
        "print (list_C)"
      ],
      "execution_count": null,
      "outputs": []
    },
    {
      "cell_type": "markdown",
      "metadata": {
        "id": "fW3Od4g0A1XH"
      },
      "source": [
        "**Funciones**\n",
        "\n",
        "Estructura de una función básica:\n",
        "\n",
        "\n",
        "\n",
        "\n",
        "\n",
        "```\n",
        "def nombre_funcion():\n",
        "  print\n",
        "```\n",
        "\n",
        "\"def\" es para definir la función, cada vez que hagamos una función en python se pone \"def\".\n",
        "\n",
        "Todo lo que viene después de la \":\" es lo que corre cuando llamamos a \"nombre_funcion():\"\n",
        "\n",
        "\n",
        "\n"
      ]
    },
    {
      "cell_type": "code",
      "metadata": {
        "id": "FY6LBOJEADs2"
      },
      "source": [
        "# ¿Para qué sirven las funciones? Imaginemos que queremos crear un programa donde cada vez que alguien entra en nuestra página web diga:\n",
        "# Bienvenidos a la mejor página de tecnología \n",
        "# Hoy hablaremos de inteligencia artificial\n",
        "\n"
      ],
      "execution_count": null,
      "outputs": []
    },
    {
      "cell_type": "code",
      "metadata": {
        "id": "uYZf_JOIAe4M"
      },
      "source": [
        "\"Bienvenidos a la mejor página de tecnología\"\n",
        "\"Hoy hablaremos de inteligencia artificial\"\n",
        "\n",
        "# esto es ineficiente si tenemos que ponerlo cada vez que entra alguien nuevo "
      ],
      "execution_count": null,
      "outputs": []
    },
    {
      "cell_type": "code",
      "metadata": {
        "id": "Bbf9hnkPAu3T"
      },
      "source": [
        "# Creamos una función llamado ia_cliente --> ia_cliente()\n",
        "\n",
        "def ia_cliente():\n",
        "  print(\"Bienvenidos a la mejor página de tecnología\")\n",
        "  print(\"Hoy hablaremos de inteligencia artificial\")\n"
      ],
      "execution_count": null,
      "outputs": []
    },
    {
      "cell_type": "code",
      "metadata": {
        "id": "3uWFDo27BmUl"
      },
      "source": [
        "# Invocamos a la función para que se imprima por pantalla\n",
        "ia_cliente()"
      ],
      "execution_count": null,
      "outputs": []
    },
    {
      "cell_type": "code",
      "metadata": {
        "id": "gVinr7qlDVLl"
      },
      "source": [
        "# Os habréis dado cuenta que las funciones llevan una estructura. Dependiendo de cuantos espacios haya, le decimos a python si una línea de código es o no, parte de la función. \n",
        "# Imaginemos\n",
        "def ia_cliente():\n",
        "  print(\"Bienvenidos a la mejor página de tecnología\")\n",
        "  print(\"Hoy hablaremos de inteligencia artificial\")\n",
        "print(\"y nlp\")\n",
        "ia_cliente()\n",
        "\n",
        "\n",
        "# Fijaros:\n",
        "# Primero nos imprime \"y nlp\" --> Porque le llamamos antes que a la función (ia_cliente() viene después) y esque además, está fuera de la función\n"
      ],
      "execution_count": null,
      "outputs": []
    },
    {
      "cell_type": "markdown",
      "metadata": {
        "id": "nEleEasLBB1x"
      },
      "source": [
        "**Variables**"
      ]
    },
    {
      "cell_type": "code",
      "metadata": {
        "id": "fnRQPetZYWA_"
      },
      "source": [
        "# Ejemplo1: Esto no es una variable sino que simplemente le pedimos a python que nos imprima por pantalla \"Hello Python\"\n",
        "print('Hola Python')"
      ],
      "execution_count": null,
      "outputs": []
    },
    {
      "cell_type": "code",
      "metadata": {
        "id": "dBMXJ329lbQc"
      },
      "source": [
        "# En este caso SI lo guardamos en la variable llamada \"hola_python\"\n",
        "hola_python = \"Hola Python\""
      ],
      "execution_count": 1,
      "outputs": []
    },
    {
      "cell_type": "code",
      "metadata": {
        "id": "u1IVO47klnIo"
      },
      "source": [
        "# En esta línea de código, lo imprimimos por pantalla\n",
        "print(hola_python)"
      ],
      "execution_count": null,
      "outputs": []
    },
    {
      "cell_type": "code",
      "metadata": {
        "id": "SgCW5VK5Ygg7"
      },
      "source": [
        "# Otro ejemplo\n",
        "Elen_1 = \"Irazabal\"\n",
        "print(Elen_1)"
      ],
      "execution_count": null,
      "outputs": []
    },
    {
      "cell_type": "markdown",
      "metadata": {
        "id": "jU5VtZ4qpmU9"
      },
      "source": [
        "**Números**"
      ]
    },
    {
      "cell_type": "code",
      "metadata": {
        "id": "82G-uJlkLifC"
      },
      "source": [
        "# Hay dos tipos de números: \n",
        "# float: 7.8, 4.3, 64.9, 1635.93274, ...\n",
        "# integer: 1,5,6,34,2344,98,725,93272...\n",
        "\n",
        "print(1)\n",
        "print(2)\n",
        "print(3.4)"
      ],
      "execution_count": null,
      "outputs": []
    },
    {
      "cell_type": "code",
      "metadata": {
        "id": "DVLFYXPxHqZ_"
      },
      "source": [
        " # + : sumar\n",
        " # - : restar\n",
        " # * : multiplicar\n",
        " # / : dividir\n",
        " # ** : exponencial\n",
        " print(1 + 5)\n",
        " print(65 / 5)"
      ],
      "execution_count": null,
      "outputs": []
    },
    {
      "cell_type": "code",
      "metadata": {
        "id": "cUg0hpqzYqi8",
        "colab": {
          "base_uri": "https://localhost:8080/"
        },
        "outputId": "5e289cb1-f001-4921-9a24-682620127b0e"
      },
      "source": [
        "# Podemos hacer operaciones con variables\n",
        "variable_multiplicacion = 9 * 7684726352436482816354419374564829347464\n",
        "print(variable_multiplicacion)"
      ],
      "execution_count": null,
      "outputs": [
        {
          "output_type": "stream",
          "text": [
            "69162537171928345347189774371083464127176\n"
          ],
          "name": "stdout"
        }
      ]
    },
    {
      "cell_type": "code",
      "metadata": {
        "id": "4d8XDsHLpoUR"
      },
      "source": [
        "# Asignamos dos variables que tienen números y hacemos una operación aritmética\n",
        "\n",
        "a = 8.9 # Float\n",
        "b = 20  # Integer\n",
        "c = a / b\n",
        "c"
      ],
      "execution_count": null,
      "outputs": []
    },
    {
      "cell_type": "markdown",
      "metadata": {
        "id": "_njPDTBuJcEQ"
      },
      "source": [
        "**Strings o cadena caracteres**"
      ]
    },
    {
      "cell_type": "code",
      "metadata": {
        "id": "zSAboQ9KpIoo"
      },
      "source": [
        "# Ejemplo 1 de cadena de caracteres. En este caso nuestra variable es string1 y nuestra cadena de caracteres \"como Garfield no me gustan los lunes\"\n",
        "# Dale al play y mira el resultado. Verás que .upper ha pasado toda la cadena a mayúscula\n",
        "string1 = \"no me gustan los lunes\"\n",
        "print(string1.upper())"
      ],
      "execution_count": null,
      "outputs": []
    },
    {
      "cell_type": "code",
      "metadata": {
        "id": "s1W1VH15WvVd"
      },
      "source": [
        "# En este ejemplo pasamos la cadena de caracteres a minúscula con .lower\n",
        "string_2 = \"ESTOY APRENDIENDO PYTHON\"\n",
        "print(string_2.lower())"
      ],
      "execution_count": null,
      "outputs": []
    },
    {
      "cell_type": "code",
      "metadata": {
        "id": "9OdyWoyML4Uz"
      },
      "source": [
        "# Ejemplo. Cuando queremos seleccionar el primer elemento de una lista o de un caracter, python empieza en lugar del 1, desde el 0\n",
        "# Si escogemos el 0 nos devuelve la primera letra, la S\n",
        "tiempo = \"soleado\"\n",
        "print(tiempo[0])"
      ],
      "execution_count": null,
      "outputs": []
    },
    {
      "cell_type": "code",
      "metadata": {
        "id": "bjR5K_hz_Nvw"
      },
      "source": [
        "# En este ejemplo podemos partir la cadena de caracteres en palabras con .split\n",
        "str_1 =\"esto es logical programming\"\n",
        "print(str_1.split(\" \"))"
      ],
      "execution_count": null,
      "outputs": []
    },
    {
      "cell_type": "code",
      "metadata": {
        "id": "HHu-j3hw_X8a"
      },
      "source": [
        "# Sustituimos una palabra por otra \n",
        "str_245 = \"esta explicacion de python para principiantes\"\n",
        "print (str_245.replace(\"principiantes\", \"juristas\"))\n"
      ],
      "execution_count": null,
      "outputs": []
    },
    {
      "cell_type": "code",
      "metadata": {
        "id": "qh3mZTWgMgFs"
      },
      "source": [
        "# Podemos unir dos strings\n",
        "nombre =\"Albert\"\n",
        "apellido = \"Einstein\"\n",
        "nombre_apellido = nombre + apellido\n",
        "print(nombre_apellido)\n"
      ],
      "execution_count": null,
      "outputs": []
    },
    {
      "cell_type": "markdown",
      "metadata": {
        "id": "8nQDfUxPJhLg"
      },
      "source": [
        "**Listas**\n",
        "\n",
        "Piensa en la lista como una lista de la compra"
      ]
    },
    {
      "cell_type": "code",
      "metadata": {
        "id": "bu5vyOjAvr58"
      },
      "source": [
        "# Creamos una lista de caracteres\n",
        "cestadelacompra = [\"patatas\", \"acelgas\", \"pasta\", \"leche\", \"queso\"]\n"
      ],
      "execution_count": null,
      "outputs": []
    },
    {
      "cell_type": "code",
      "metadata": {
        "id": "DXFnGyJlwIDv"
      },
      "source": [
        "# Accedemos a ver el primero\n",
        "cestadelacompra[0]"
      ],
      "execution_count": null,
      "outputs": []
    },
    {
      "cell_type": "code",
      "metadata": {
        "id": "0zbprw03wT_T"
      },
      "source": [
        "# Podemos sustituir \"patatas\" por otro elemento que escojamos \n",
        "cestadelacompra[0] = \"fresas\"\n",
        "print(cestadelacompra)"
      ],
      "execution_count": null,
      "outputs": []
    },
    {
      "cell_type": "code",
      "metadata": {
        "id": "Sl7thEjwwmJl"
      },
      "source": [
        "# Podemos imprimir del primer al cuarto elemento\n",
        "print(cestadelacompra[0:5])"
      ],
      "execution_count": null,
      "outputs": []
    },
    {
      "cell_type": "code",
      "metadata": {
        "id": "C1WPleR_JmeQ"
      },
      "source": [
        "# Podemos hacer una lista con números\n",
        "list_1 = [1, 2, 3, 4, 5]\n",
        "list_1"
      ],
      "execution_count": null,
      "outputs": []
    },
    {
      "cell_type": "code",
      "metadata": {
        "id": "c_LYcMjaAAeG"
      },
      "source": [
        "# Mezclar listas con caracteres y números a la vez\n",
        "mezclalista= [4, 10.2, \"fresas\", [\"otra lista\"]]\n",
        "\n",
        "print(mezclalista[0])\n"
      ],
      "execution_count": null,
      "outputs": []
    },
    {
      "cell_type": "code",
      "metadata": {
        "id": "g2ZY6_qRJgq6"
      },
      "source": [
        "# También podemos hacer listas en listas:\n",
        "\n",
        "nombres_años = [[['Emma', 30], ['Laura', 15], ['Aitor', 34], ['Mikel', 90]]]\n",
        "print(nombres_años)"
      ],
      "execution_count": null,
      "outputs": []
    },
    {
      "cell_type": "code",
      "metadata": {
        "id": "oiXEDlWaKF1_"
      },
      "source": [
        "# Podemos crear una lista vacía:\n",
        "loquesea = []"
      ],
      "execution_count": null,
      "outputs": []
    },
    {
      "cell_type": "code",
      "metadata": {
        "id": "Piy2c8S5KQev"
      },
      "source": [
        "# podemos añadir un elemento a la lista con .append\n",
        "loquesea.append(100)\n",
        "print(loquesea)"
      ],
      "execution_count": null,
      "outputs": []
    },
    {
      "cell_type": "markdown",
      "metadata": {
        "id": "ReUY6lLKJnAW"
      },
      "source": [
        "**Diccionarios**\n",
        "\n",
        "Los diccionarios funcionan como un diccionario normal. En lugar de palabra - definición:\n",
        "\n",
        "Clave - valor"
      ]
    },
    {
      "cell_type": "code",
      "metadata": {
        "id": "wEK6ySZbYcLx"
      },
      "source": [
        "# Primer ejemplo, desde una primera clase de principiante hasta una clase nivel master. \n",
        "dict_1 = {\"clase_1\": \"principiante\", \"clase_2\": \"intermedio\", \"clase_3\": \"avanzado\", \"clase_4\": \"masterclass\"}\n",
        "print(dict_1[\"clase_2\"])"
      ],
      "execution_count": null,
      "outputs": []
    },
    {
      "cell_type": "code",
      "metadata": {
        "id": "nfjM2yvvANQ-"
      },
      "source": [
        "# Otro ejemplo con nombres y su edad\n",
        "dic_2 = {\"Emma\": 40, \"Quiensea\": 27, \"Otra\": 31}\n",
        "print(dic_2[\"Otra\"]) "
      ],
      "execution_count": null,
      "outputs": []
    },
    {
      "cell_type": "code",
      "metadata": {
        "id": "ryE1ZvzToRBH"
      },
      "source": [
        "# Podemos añadir a otra persona más:\n",
        "\n",
        "dic_2[\"ella\"] = 90\n",
        "\n",
        "print(dic_2)"
      ],
      "execution_count": null,
      "outputs": []
    },
    {
      "cell_type": "code",
      "metadata": {
        "id": "lJZB6D5cyjwm"
      },
      "source": [
        "# Podemos dejar el diccionario vacío\n",
        "dic_2.clear()  \n",
        "dic_2"
      ],
      "execution_count": null,
      "outputs": []
    }
  ]
}